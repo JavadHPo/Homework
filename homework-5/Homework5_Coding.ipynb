{
 "cells": [
  {
   "cell_type": "markdown",
   "metadata": {},
   "source": [
    "# Homework 5 Coding: Transport Modeling\n",
    "\n",
    "For this coding assignment, you will write functions to calculate molar flux (and sometimes current density) for several given applications.  I will do much of the coding for you, at first, but then let you handle more and more of it, as we move along.\n",
    "\n",
    "## Part I: Gas-phase diffusion in a PEMFC cathode.\n",
    "\n",
    "For this scenario, we will model gas-phase transport in the gas diffusion layer (GDL) of a PEMFC cathode.\n",
    "\n",
    "The cathode is 100 microns thick, with a porosity (gas-phase volume fraction) of 57%, with the tortuosity factor modeled using a Bruggeman coefficient of $n = -0.5$.\n",
    "\n",
    "Use the Cozeny-Karman relationship to estimate the cathode GDL permeability, with a carbon particle diameter of 0.5 microns, and an average pore radius of 2 microns.\n",
    "\n",
    "We will simulate transport at 60 C, where the dynamic viscosity of moist air is $\\mu = 2.08\\times 10^{-5}\\,\\frac{\\rm kg}{\\rm m-s}$.  The conditions at the two nodes are:\n",
    "\n",
    "1. Node 1: in the gas flow channel\n",
    "- Pressure = 1 atmosphere\n",
    "- $X_{\\rm O_2} = 0.21$\n",
    "- $X_{\\rm N_2} = 0.79$\n",
    "- $X_{\\rm H_2O} = 0.0$\n",
    "\n",
    "2. Node 2: in the catalyst layer, where O$_2$ is consumed and H$_2$O is produced:\n",
    "- Pressure = 100 kPa\n",
    "- $X_{\\rm O_2} = 0.16$\n",
    "- $X_{\\rm N_2} = 0.80$\n",
    "- $X_{\\rm H_2O} = 0.04$\n",
    "\n",
    "The gas-phase species diffusion coefficients are:\n",
    "- O$_2$: $2.438\\times 10^{-5}\\,\\frac{\\rm m^2}{\\rm s}$\n",
    "- N$_2$: $2.798\\times 10^{-5}\\,\\frac{\\rm m^2}{\\rm s}$\n",
    "- H$_2$O: $1.9\\times 10^{-5}\\,\\frac{\\rm m^2}{\\rm s}$"
   ]
  },
  {
   "cell_type": "code",
<<<<<<< HEAD
   "execution_count": 40,
=======
   "execution_count": 12,
<<<<<<< HEAD
>>>>>>> 1st part is done but the plot is slightly off
=======
>>>>>>> 60a32953da9c2129bd1c23b14fd936c62872dc6a
>>>>>>> 283ccf0ddf453af3129defa2aa4b3424690b896c
   "metadata": {},
   "outputs": [],
   "source": [
    "import numpy as np\n",
    "\n",
    "dY = 100e-6 # m\n",
    "eps_g = 0.57\n",
    "n_Brugg = -0.5\n",
    "\n",
    "d_part = 0.5e-6\n",
    "r_p = 2e-6\n",
    "\n",
    "T = 333.15 # K\n",
    "P_1 = 101325 # Pa\n",
    "P_2 = 100000 # Pa\n",
    "\n",
    "R = 8.3145 # J/mol-K\n",
    "F = 96485  # C/mol equiv\n",
    "\n",
    "# Species order: O2, N2, H2O_v\n",
    "X_k_1 = np.array([0.21, 0.79, 0.0])\n",
    "X_k_2 = np.array([0.16, 0.80, 0.04])\n",
    "\n",
    "mu = 2.08e-5 #kg/m-s\n",
    "\n",
    "D_k = np.array([2.438e-5, 2.798e-5, 1.9e-5]) #m2/s"
   ]
  },
  {
   "cell_type": "markdown",
   "metadata": {},
   "source": [
    "### We are going to load all parameters into a series of Python dictionaries\n",
    "\n",
    "We will pass these dictionaries to our function.  The dictionaries just make it more efficient then having 12 different input variables."
   ]
  },
  {
   "cell_type": "code",
<<<<<<< HEAD
   "execution_count": 41,
=======
   "execution_count": 13,
<<<<<<< HEAD
>>>>>>> 1st part is done but the plot is slightly off
=======
>>>>>>> 60a32953da9c2129bd1c23b14fd936c62872dc6a
>>>>>>> 283ccf0ddf453af3129defa2aa4b3424690b896c
   "metadata": {},
   "outputs": [],
   "source": [
    "# State variables for node 1:\n",
    "state1 = {'X_k':X_k_1, 'P':P_1, 'T':T}\n",
    "# State variables for node 2:\n",
    "state2 = {'X_k':X_k_2, 'P':P_2, 'T':T}\n",
    "\n",
    "# Geometric and microstructure parameters:\n",
    "geom = {'eps_g':eps_g, 'n_Brugg':n_Brugg, 'd_part':d_part, 'dY':dY}\n",
    "# Gas properties\n",
    "gas_props = {'D_k':D_k, 'mu':mu}"
   ]
  },
  {
   "cell_type": "markdown",
   "metadata": {},
   "source": [
    "### Example for using values stored in dictionaries:"
   ]
  },
  {
   "cell_type": "code",
<<<<<<< HEAD
   "execution_count": 42,
=======
   "execution_count": 14,
<<<<<<< HEAD
>>>>>>> 1st part is done but the plot is slightly off
=======
>>>>>>> 60a32953da9c2129bd1c23b14fd936c62872dc6a
>>>>>>> 283ccf0ddf453af3129defa2aa4b3424690b896c
   "metadata": {},
   "outputs": [
    {
     "name": "stdout",
     "output_type": "stream",
     "text": [
      "2.08e-05\n",
      "[0.21 0.79 0.  ]\n",
      "The mole fractions sum to 1.0\n"
     ]
    }
   ],
   "source": [
    "# To access a dictionary value:\n",
    "print(gas_props['mu'])\n",
    "print(state1['X_k'])\n",
    "X_sum = sum(state1['X_k'])\n",
    "print('The mole fractions sum to',X_sum)"
   ]
  },
  {
   "cell_type": "markdown",
   "metadata": {},
   "source": [
    "## YOUR CODE GOES HERE:\n",
    "\n",
    "Create a function that calculates the species fluxes, given our input dictionaries.\n",
    "\n",
    "The function must return an array `N_k` that provides the species molar fluxes in mol/m$^2$-s. "
   ]
  },
  {
   "cell_type": "code",
<<<<<<< HEAD
   "execution_count": 43,
=======
   "execution_count": 37,
<<<<<<< HEAD
>>>>>>> 1st part is done but the plot is slightly off
=======
>>>>>>> 60a32953da9c2129bd1c23b14fd936c62872dc6a
>>>>>>> 283ccf0ddf453af3129defa2aa4b3424690b896c
   "metadata": {},
   "outputs": [],
   "source": [
    "def pemfc_gas_transport(state1, state2, geom, gas_props):\n",
    "    \n",
    "    N_k = np.zeros_like(state1['X_k'])\n",
    "    \n",
    "    C_k_1 = np.zeros_like(state1['X_k'])\n",
    "    C_k_2 = np.zeros_like(state2['X_k'])\n",
    "    \n",
    "    C_k_1 = state1['X_k']*state1['P']/(R*T)\n",
    "    C_k_2 = state2['X_k']*state2['P']/(R*T)\n",
    "    \n",
<<<<<<< HEAD
    "    C_int = np.zeros_like(state1['X_k'])\n",
    "    C_int = (C_k_1 + C_k_2)/2\n",
    "    \n",
    "    X_k_int = np.zeros_like(state1['X_k'])\n",
    "    X_k_int = (state1['X_k'] + state2['X_k'])/2\n",
    "    \n",
    "    K_m = ((geom['eps_g']**3)*(geom['d_part']**2))/(72*(geom['eps_g']**(geom['n_Brugg']))*(1-geom['eps_g'])**2)\n",
    "    \n",
    "    V_conv = -K_m*(state2['P']-state1['P'])/geom['dY']/gas_props['mu']\n",
    "    \n",
=======
    "    C_1 = sum(C_k_1)\n",
    "    C_2 = sum(C_k_2)\n",
    "    \n",
    "    C_int = (C_1 + C_2)/2\n",
    "    \n",
    "    X_k_int = np.zeros_like(state1['X_k'])\n",
    "    X_k_int = (state1['X_k'] + state2['X_k'])/2\n",
    "    \n",
    "    K_m = ((geom['eps_g']**3)*(geom['d_part']**2))/(72*(geom['eps_g']**(-0.5))*(1-geom['eps_g'])**2)\n",
    "    \n",
    "    V_conv = -K_m*(state2['P']-state1['P'])/geom['dY']/gas_props['mu']\n",
    "    \n",
<<<<<<< HEAD
>>>>>>> 1st part is done but the plot is slightly off
=======
>>>>>>> 60a32953da9c2129bd1c23b14fd936c62872dc6a
>>>>>>> 283ccf0ddf453af3129defa2aa4b3424690b896c
    "    D_k_eff = np.zeros_like(D_k)\n",
    "    D_k_eff = D_k*geom['eps_g']**1.5 \n",
    "    \n",
    "    V_k_diff = -D_k_eff*(state2['X_k']-state1['X_k'])/geom['dY']/X_k_int\n",
    "    \n",
    "    V_k = V_conv + V_k_diff\n",
    "    \n",
<<<<<<< HEAD
    "    N_k = (C_int*X_k_int*V_conv) + (C_int*V_k_diff) #C_int*X_k_int*V_k\n",
=======
    "    N_k = C_int*X_k_int*V_k\n",
<<<<<<< HEAD
>>>>>>> 1st part is done but the plot is slightly off
=======
>>>>>>> 60a32953da9c2129bd1c23b14fd936c62872dc6a
>>>>>>> 283ccf0ddf453af3129defa2aa4b3424690b896c
    "    \n",
    "    return N_k\n",
    "    "
   ]
  },
  {
   "cell_type": "markdown",
   "metadata": {},
   "source": [
    "### Now calculate the fluxes between nodes 1 and 2 (you do not need to do anything; just run the cell)\n",
    "### Then check your answers against mine:"
   ]
  },
  {
   "cell_type": "code",
<<<<<<< HEAD
   "execution_count": 44,
=======
   "execution_count": 38,
<<<<<<< HEAD
>>>>>>> 1st part is done but the plot is slightly off
=======
>>>>>>> 60a32953da9c2129bd1c23b14fd936c62872dc6a
>>>>>>> 283ccf0ddf453af3129defa2aa4b3424690b896c
   "metadata": {},
   "outputs": [
    {
     "data": {
      "text/plain": [
       "Text(0.5, 0, 'Species')"
      ]
     },
<<<<<<< HEAD
     "execution_count": 44,
=======
     "execution_count": 38,
<<<<<<< HEAD
>>>>>>> 1st part is done but the plot is slightly off
=======
>>>>>>> 60a32953da9c2129bd1c23b14fd936c62872dc6a
>>>>>>> 283ccf0ddf453af3129defa2aa4b3424690b896c
     "metadata": {},
     "output_type": "execute_result"
    },
    {
     "data": {
<<<<<<< HEAD
      "image/png": "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\n",
=======
      "image/png": "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\n",
<<<<<<< HEAD
>>>>>>> 1st part is done but the plot is slightly off
=======
>>>>>>> 60a32953da9c2129bd1c23b14fd936c62872dc6a
>>>>>>> 283ccf0ddf453af3129defa2aa4b3424690b896c
      "text/plain": [
       "<Figure size 432x288 with 1 Axes>"
      ]
     },
     "metadata": {
      "needs_background": "light"
     },
     "output_type": "display_data"
    }
   ],
   "source": [
    "N_k_calc = pemfc_gas_transport(state1, state2, geom, gas_props)\n",
    "\n",
    "from matplotlib import pyplot as plt\n",
    "width = 0.35\n",
    "N_k_check = np.array([0.19913, -0.007275, -0.11794]) #mol/m2/s\n",
    "\n",
    "fig, ax = plt.subplots()\n",
    "\n",
    "labels = ['O2', 'N2', 'H2O']\n",
    "x = np.arange(len(labels))\n",
    "\n",
    "ax.bar(x+width/2,N_k_check,width)\n",
    "ax.bar(x-width/2,N_k_calc,width)\n",
    "ax.legend(['DeCaluwe\\'s Answer','My Answer'],frameon=False)\n",
    "\n",
    "ax.set_xticks(x)\n",
    "ax.set_xticklabels(labels)\n",
    "\n",
    "ax.set_ylabel('Diffusion coefficient (m$^2$/s)',fontsize=14)\n",
    "ax.set_xlabel('Species',fontsize=14)"
   ]
  },
  {
   "cell_type": "markdown",
   "metadata": {},
   "source": [
    "## Part II: Charged species transport in a liquid electrolyte:\n",
    "\n",
    "Next we will calculate molar fluxes for a liquid electrolyte in a battery anode.  These calculations will be for electro-diffusion only - there is no convection!\n",
    "\n",
    "The molar density of the electrolyte is assumed constant at 1100 moles per m$^3$\n",
    "\n",
    "The temperature is 45$^\\circ$C.\n",
    "\n",
    "The electrolyte is LiPF$_6$, dissolved in a generic \"solvent\" molecule, with the following conditions:\n",
    "\n",
    "1. Node 1:\n",
    "- $X_{\\rm Li^+} = 0.03$\n",
    "- $X_{\\rm PF^-_6} = 0.03$\n",
    "- $X_{\\rm Solvent} = 0.94$\n",
    "- Electric potential $\\phi_1 = 0.9$ V\n",
    "\n",
    "2. Node 2:\n",
    "- $X_{\\rm Li^+} = 0.06$\n",
    "- $X_{\\rm PF^-_6} = 0.06$\n",
    "- $X_{\\rm Solvent} = 0.88$\n",
    "- Electric potential $\\phi_2 = 0.5$ V\n",
    "\n",
    "The distance between the nodes is 30 microns, and the average diameter of the solid active material particles is 5 microns.  The anode porosity (electrolyte volume fraction) is 23%, and the tortuosity is characterized by a Bruggeman coefficient of -0.5."
   ]
  },
  {
   "cell_type": "code",
   "execution_count": 45,
   "metadata": {},
   "outputs": [],
   "source": [
    "C_elyte = 1100 #mol/m3\n",
    "\n",
    "# Species order: Li+, PF6-, solvent\n",
    "X_k_1 = np.array([0.03, 0.03, 0.94])\n",
    "X_k_2 = np.array([0.06, 0.06, 0.88])\n",
    "\n",
    "z_k = np.array([1., -1., 0.])\n",
    "\n",
    "T = 318.  #K\n",
    "\n",
    "dY = 30e-6\n",
    "\n",
    "D_k = np.array([1.52e-10, 0.25e-10, 1e-12])\n",
    "\n",
    "phi_1 = 0.9\n",
    "phi_2 = 0.5\n",
    "\n",
    "d_part = 5e-6\n",
    "\n",
    "eps_elyte = 0.23\n",
    "n_brugg = -0.5"
   ]
  },
  {
   "cell_type": "markdown",
   "metadata": {},
   "source": [
    "## ENTER CODE HERE \n",
    "\n",
    "### to Create the Necessary Dictionaries. We will call the states just 's1' and 's2', this time:"
   ]
  },
  {
   "cell_type": "code",
   "execution_count": 46,
   "metadata": {},
   "outputs": [],
   "source": [
    "s1 = {'X_k':X_k_1, 'phi':phi_1, 'T':T}\n",
    "s2 = {'X_k':X_k_2, 'phi':phi_2, 'T':T}\n",
    "\n",
    "geom = {'eps_elyte':eps_elyte, 'n_brugg':n_brugg, 'd_part':d_part, 'dY':dY }\n",
    "elyte_pars = {'D_k':D_k, 'z_k':z_k}"
   ]
  },
  {
   "cell_type": "markdown",
   "metadata": {},
   "source": [
    "## NOW CREATE YOUR FLUX-CALCULATING FUNCTION:"
   ]
  },
  {
   "cell_type": "code",
   "execution_count": 47,
   "metadata": {},
   "outputs": [],
   "source": [
    "def electrolyte_transport(state1, state2, geom, liq_pars):\n",
    "    \n",
    "    N_k = np.zeros_like(s1['X_k'])\n",
    "    \n",
    "    X_k_int = np.zeros_like(s1['X_k'])\n",
    "    X_k_int = (s1['X_k']+s2['X_k'])/2\n",
    "    \n",
    "    C_k_1 = np.zeros_like(s1['X_k'])\n",
    "    C_k_1 = s1['X_k']*C_elyte\n",
    "    \n",
    "    C_k_2 = np.zeros_like(s2['X_k'])\n",
    "    C_k_2 = s2['X_k']*C_elyte\n",
    "    \n",
    "    C_k_int = np.zeros_like(s1['X_k'])\n",
    "    C_k_int = (C_k_1 + C_k_2)/2\n",
    "    \n",
    "    D_k_eff = np.zeros_like(elyte_pars['D_k'])\n",
    "    D_k_eff = elyte_pars['D_k']*geom['eps_elyte']**1.5\n",
    "    \n",
    "    D_k_mig = np.zeros_like(elyte_pars['D_k'])\n",
    "    D_k_mig = D_k_eff*C_k_int*elyte_pars['z_k']*F/(R*T)\n",
    "    \n",
    "    N_k = - (D_k_eff*(C_k_int/X_k_int)*(s2['X_k']-s1['X_k'])/geom['dY'])\\\n",
    "            - (D_k_mig*(s2['phi']-s1['phi'])/geom['dY'])\n",
    "    \n",
    "    return N_k"
   ]
  },
  {
   "cell_type": "markdown",
   "metadata": {},
   "source": [
    "Now we loop over a range of Node 2 electric potentials.  We use the fluxes to calculate the current density:\n",
    "\\begin{equation}\n",
    "i = F\\sum_k z_kN_k\n",
    "\\end{equation}"
   ]
  },
  {
   "cell_type": "code",
   "execution_count": 48,
   "metadata": {},
   "outputs": [],
   "source": [
    "dPhi = np.linspace(0,1.1,25)\n",
    "currents = np.zeros_like(dPhi)\n",
    "N_k = np.zeros((len(dPhi), len(z_k)))\n",
    "\n",
    "\n",
    "for j, phi in enumerate(dPhi):\n",
    "    s2['phi'] = phi\n",
    "    N_k[j,:] = electrolyte_transport(s1,s2, geom, elyte_pars)\n",
    "    currents[j] = np.dot(z_k,N_k[j,:])*F\n"
   ]
  },
  {
   "cell_type": "markdown",
   "metadata": {},
   "source": [
    "## Plot the currents and check them against mine.\n",
    "(You do not need to enter anything)\n",
    "### For what potential is the current equal to zero?"
   ]
  },
  {
   "cell_type": "code",
   "execution_count": 49,
   "metadata": {},
   "outputs": [
    {
     "name": "stdout",
     "output_type": "stream",
     "text": [
      "Zero current at dPhi =  0.8868918122866205\n"
     ]
    },
    {
     "data": {
      "image/png": "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\n",
      "text/plain": [
       "<Figure size 432x288 with 1 Axes>"
      ]
     },
     "metadata": {
      "needs_background": "light"
     },
     "output_type": "display_data"
    }
   ],
   "source": [
    "current_check = np.array([100.,  95.,  90.,  85.,  80.,  75.,  69.,\n",
    "                          64.,  59.,  54.,  49.,  43.,  38.,  33.,\n",
    "                          28.,  23.,  17.,  12.,   7.,   2.,  -3.,\n",
    "                          -9.,    -14., -19., -24.])\n",
    "\n",
    "plt.plot(dPhi, currents, 'k')\n",
    "plt.plot(dPhi, current_check, 'ro', markerfacecolor=None)\n",
    "plt.plot(dPhi, np.zeros_like(dPhi),'--',color='0.5')\n",
    "plt.xlabel('Electric potential difference (V)',fontsize=14)\n",
    "plt.ylabel('Current density (A/m$^2$)',fontsize=14)\n",
    "\n",
    "zero=np.interp(0, np.flip(currents), np.flip(dPhi))\n",
    "print('Zero current at dPhi = ',zero)\n"
   ]
  },
  {
   "cell_type": "code",
   "execution_count": 50,
   "metadata": {},
   "outputs": [
    {
     "data": {
      "text/plain": [
       "[<matplotlib.lines.Line2D at 0x7f8121c06130>]"
      ]
     },
     "execution_count": 50,
     "metadata": {},
     "output_type": "execute_result"
    },
    {
     "data": {
      "image/png": "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\n",
      "text/plain": [
       "<Figure size 432x288 with 1 Axes>"
      ]
     },
     "metadata": {
      "needs_background": "light"
     },
     "output_type": "display_data"
    }
   ],
   "source": [
    "\n",
    "plt.plot(dPhi, N_k[:,0],linewidth=2.5)\n",
    "plt.plot(dPhi, N_k[:,1],linewidth=2.5)\n",
    "\n",
    "plt.xlabel('Electric potential difference (V)',fontsize=14)\n",
    "plt.ylabel('Molar flux (mol/m$^2$-s)',fontsize=14)\n",
    "plt.legend(['Li$^+$','PF$_6^-$'],frameon=False,fontsize=14)\n",
    "plt.plot([zero,zero],[N_k[-1,0],N_k[0,0]],'--',color='0.5')\n",
    "plt.plot([0,1],[0,0],'--',color='0.5')"
   ]
  },
  {
   "cell_type": "markdown",
   "metadata": {},
   "source": [
    "## Discuss the plot above in this Markdown block.  When is zero ionic current achieved?\n",
    ".\n",
    ".\n",
    ".\n",
    "(like, type it right here)\n",
    "\n",
    "\n",
    "\n"
   ]
  },
  {
   "cell_type": "markdown",
   "metadata": {},
   "source": [
    "### Now predict current as a function of electrolyte volume fraction $\\varepsilon_{\\rm elyte}$\n",
    "\n",
    "(You do not need to type anything)"
   ]
  },
  {
   "cell_type": "code",
   "execution_count": 51,
   "metadata": {},
   "outputs": [
    {
     "data": {
      "text/plain": [
       "Text(0, 0.5, 'Current Density (A/m$^2$)')"
      ]
     },
     "execution_count": 51,
     "metadata": {},
     "output_type": "execute_result"
    },
    {
     "data": {
      "image/png": "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\n",
      "text/plain": [
       "<Figure size 432x288 with 1 Axes>"
      ]
     },
     "metadata": {
      "needs_background": "light"
     },
     "output_type": "display_data"
    }
   ],
   "source": [
    "eps_array = np.linspace(0.05,0.95,25)\n",
    "\n",
    "currents = np.zeros_like(eps_array)\n",
    "for j, eps in enumerate(eps_array):\n",
    "    geom['eps_elyte'] = eps\n",
    "    N_k = electrolyte_transport(s1, s2, geom, elyte_pars)\n",
    "    currents[j] = np.dot(elyte_pars['z_k'],N_k)*F\n",
    "    \n",
    "plt.plot(eps_array, currents,'b',linewidth=2.5)\n",
    "plt.xlabel('Electrolyte Volume Fraction', fontsize=14)\n",
    "plt.ylabel('Current Density (A/m$^2$)',fontsize=14)"
   ]
  },
  {
   "cell_type": "markdown",
   "metadata": {},
   "source": [
    "### Discuss the results.  If you were designing a high-performance anode, what $\\varepsilon_{\\rm elyte}$ value would you pick?  Why?\n",
    "\n",
    "(discuss it right here)"
   ]
  },
  {
   "cell_type": "markdown",
   "metadata": {},
   "source": [
    "## Part III. Charged defects in a proton-conducting ceramic:\n",
    "\n",
    "The protonic ceramic membrane in this section has a fixed crystal lattice that can be occupied by one of three species:\n",
    "\n",
    "- An oxygen atom, O$^\\times$ (this is considered the neutral species)\n",
    "- A vacancy,V$_{\\rm O}^{\\bullet\\bullet}$ which has a charge of +2, relative to the oxygen\n",
    "- An oxygen atom with a proton attached, OH$^\\bullet$\n",
    "\n",
    "The lattice site concentration is assumed fixed at 22,325 mol per m$^3$.\n",
    "\n",
    "The vacancy and proton are considered mobile, while the oxide is considered fixed.  We will simulate transport at 600$^\\circ$C, where the diffusion coefficients are:\n",
    "\n",
    "- $D_{\\rm V_{\\rm O}^{\\bullet\\bullet}} = 1.28\\times 10^{-12}\\,\\frac{\\rm m^2}{\\rm s}$\n",
    "- $D_{\\rm O^\\times} = 0.0\\,\\frac{\\rm m^2}{\\rm s}$\n",
    "- $D_{\\rm OH^\\bullet} = 7.46\\times 10^{-11}\\,\\frac{\\rm m^2}{\\rm s}$\n",
    "\n",
    "The membrane also has a small amount of electronic conductivity, $\\sigma_{\\rm el} = 0.001\\,\\frac{\\rm S}{\\rm m}$.\n",
    "\n",
    "We will simulate transport between two nodes, which are 20 microns apart.  The conditions are:\n",
    "\n",
    "1. Node 1:\n",
    "- $X_{\\rm V_{\\rm O}^{\\bullet\\bullet}} = 0.336$\n",
    "- $X_{\\rm O^\\times} = 0.627$\n",
    "- $X_{\\rm OH^\\bullet} = 0.037$\n",
    "- $\\phi_1 = 1.1$\n",
    "\n",
    "2. Node 2:\n",
    "- $X_{\\rm V_{\\rm O}^{\\bullet\\bullet}} = 0.018$\n",
    "- $X_{\\rm O^\\times} = 0.938$\n",
    "- $X_{\\rm OH^\\bullet} = 0.044$\n",
    "- $\\phi_2 = 0.0$\n",
    "\n",
    "## Enter the data, here:"
   ]
  },
  {
   "cell_type": "code",
   "execution_count": null,
   "metadata": {},
   "outputs": [],
   "source": [
    "s1 = { }\n",
    "s2 = { }\n",
    "\n",
    "geom = { }\n",
    "ceramic_pars = { }"
   ]
  },
  {
   "cell_type": "markdown",
   "metadata": {},
   "source": [
    "## CREATE YOUR TRANSPORT FUNCTION HERE.\n",
    "\n",
    "This function should return the fluxes, N_k, and the total current (ionic + electronic)."
   ]
  },
  {
   "cell_type": "code",
   "execution_count": null,
   "metadata": {},
   "outputs": [],
   "source": [
    "def protonic_transport(state1, state2, geom, ceramic_pars):\n",
    "        \n",
    "    \n",
    "    return N_k, current"
   ]
  },
  {
   "cell_type": "markdown",
   "metadata": {},
   "source": [
    "## Here, we loop over a range of electric potential diffrerences between node 1 and node 2.\n",
    "\n",
    "You do not need to do anything; just run the cell.\n",
    "\n",
    "We will plot both the total current and the Faradaic efficiency, as a function of $\\Delta \\phi$.  \n",
    "\n",
    "The Faradaic efficiency $\\eta_{\\rm Far}$ refers to the fact that the electronic leakage current is \"undesired,\" for the protonic fuel cell.  We want all current to move ions across the membrane.  Therefore we find the efficiency as:\n",
    "\\begin{equation}\n",
    "    \\eta_{\\rm Far} = \\frac{i_{\\rm ion}}{i_{\\rm total}}\n",
    "\\end{equation}"
   ]
  },
  {
   "cell_type": "code",
   "execution_count": null,
   "metadata": {},
   "outputs": [],
   "source": [
    "dPhi = np.linspace(0.0, 1.0, 100)\n",
    "eta_Far = np.zeros_like(dPhi)\n",
    "i_tot = np.zeros_like(dPhi)\n",
    "\n",
    "for j, deltaPhi in enumerate(dPhi):\n",
    "    s2['phi'] = s1['phi']-deltaPhi\n",
    "    Nk, i_tot[j] = protonic_transport(s1, s2, geom, ceramic_pars)\n",
    "    i_ion = np.dot(Nk,ceramic_pars['z_k'])*F\n",
    "    \n",
    "    eta_Far[j] = 100*i_ion/i_tot[j]\n",
    "    \n",
    "    \n",
    "# Plot the results:\n",
    "fig, ax = plt.subplots()\n",
    "plt.plot(dPhi, i_tot,color='b')\n",
    "\n",
    "# Create a 2nd y axis:\n",
    "ax2 = ax.twinx()\n",
    "ax2.plot(dPhi, eta_Far,'r')\n",
    "\n",
    "# Formatting:\n",
    "ax.set_xlabel('Electric Potential Difference ($\\phi_1 - \\phi_2$, V)', fontsize=14)\n",
    "\n",
    "ax.tick_params(axis='y',color='r',labelcolor='b',labelsize=12)\n",
    "ax.set_ylabel('Current density (A/m$^2$)',color='b',fontsize=14)\n",
    "ax.tick_params(axis='y',color='r',labelcolor='b',labelsize=12)\n",
    "\n",
    "ax2.set_ylabel('Faradaic Efficiency (%)',color='r',fontsize=14)\n",
    "ax2.tick_params(axis='y',color='r',labelcolor='r',labelsize=12)\n",
    "ax2.tick_params(axis='y',color='r',labelcolor='r',labelsize=12)\n",
    "ax2.set_ylim((99,100))"
   ]
  },
  {
   "cell_type": "markdown",
   "metadata": {},
   "source": [
    "## In this markdown cell, discuss the plot.  What explains the trends?\n",
    "\n",
    "To check your answers, your total current should go from roughly zero at $\\Delta\\phi = 0$, to nearly 6000 A/m$^2$ at $\\Delta\\phi = 1.0.$ Over the same range, the Faradaic efficiency should go from 100% to roughly 99.1%.\n",
    "\n",
    "(discussion goes here)"
   ]
  },
  {
   "cell_type": "markdown",
   "metadata": {},
   "source": [
    "### Now loop over a smaller range of potentials, to see where we get a net current of zero.\n",
    "\n",
    "(you do not need to type anything; just run the cell)."
   ]
  },
  {
   "cell_type": "code",
   "execution_count": null,
   "metadata": {},
   "outputs": [],
   "source": [
    "dPhi = np.linspace(-0.01, 0.01, 20)\n",
    "N_k = np.zeros((len(dPhi),len(state1['X_k'])))\n",
    "i_tot = np.zeros_like(dPhi)\n",
    "\n",
    "for j, deltaPhi in enumerate(dPhi):\n",
    "    state2['phi'] = state1['phi']-deltaPhi\n",
    "    N_k[j,:], i_tot[j] = protonic_transport(s1, s2, geom, ceramic_pars)\n",
    "\n",
    "fig, ax = plt.subplots()\n",
    "plt.plot(1000*dPhi, i_tot,color='b')\n",
    "\n",
    "zero = 1000*np.interp(0,i_tot,dPhi)\n",
    "plt.plot([zero,zero],[i_tot[0],i_tot[-1]],'--',color='0.5')\n",
    "\n",
    "ax.set_ylabel('Current density (A/m$^2$)',color='b',fontsize=14)\n",
    "ax.tick_params(axis='y',color='k',labelcolor='b',labelsize=12)\n",
    "ax.tick_params(axis='y',color='k',labelcolor='b',labelsize=12)\n",
    "\n",
    "ax.tick_params(axis='x',color='k',labelcolor='k',labelsize=12)\n",
    "ax.set_xlabel('Electric Potential Difference ($\\phi_1 - \\phi_2$, mV)', fontsize=14)\n",
    "# ax.set_xlim((-0.01,0.01))\n",
    "\n",
    "ax2 = ax.twinx()\n",
    "ax2.plot(1000*dPhi, N_k[:,0],'r.--')\n",
    "ax2.plot(1000*dPhi, N_k[:,2],color='r')\n",
    "\n",
    "ax2.set_ylabel('Species Flux (mol/m$^2$-s)',color='r',fontsize=14)\n",
    "ax2.tick_params(axis='y',color='r',labelcolor='r',labelsize=12)\n",
    "\n",
    "ax2.legend(['Vacancy','Proton'],fontsize=14,frameon=False)"
   ]
  },
  {
   "cell_type": "markdown",
   "metadata": {
    "scrolled": true
   },
   "source": [
    "### Discuss the result.  Is the 'zero current' condition the same as for the battery anode?  \n",
    "\n",
    "What about your model equations explains the trends?"
   ]
  },
  {
   "cell_type": "code",
   "execution_count": null,
   "metadata": {},
   "outputs": [],
   "source": []
  }
 ],
 "metadata": {
  "kernelspec": {
   "display_name": "Python 3",
   "language": "python",
   "name": "python3"
  },
  "language_info": {
   "codemirror_mode": {
    "name": "ipython",
    "version": 3
   },
   "file_extension": ".py",
   "mimetype": "text/x-python",
   "name": "python",
   "nbconvert_exporter": "python",
   "pygments_lexer": "ipython3",
   "version": "3.8.3"
  }
 },
 "nbformat": 4,
 "nbformat_minor": 4
}
